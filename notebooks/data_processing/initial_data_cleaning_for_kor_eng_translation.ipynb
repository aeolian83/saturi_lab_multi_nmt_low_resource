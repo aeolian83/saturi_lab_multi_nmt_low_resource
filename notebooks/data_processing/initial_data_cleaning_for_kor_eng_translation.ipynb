{
 "cells": [
  {
   "cell_type": "code",
   "execution_count": null,
   "id": "34b39fad",
   "metadata": {},
   "outputs": [],
   "source": [
    "import pandas as pd\n",
    "import tqdm\n",
    "import os"
   ]
  },
  {
   "cell_type": "code",
   "execution_count": 2,
   "id": "23cb1499",
   "metadata": {},
   "outputs": [],
   "source": [
    "path = os.getenv('HOME')\n",
    "df = pd.read_csv(path +'/data/raw/dataset_full_v1.csv')"
   ]
  },
  {
   "cell_type": "code",
   "execution_count": 3,
   "id": "27277ce5",
   "metadata": {},
   "outputs": [
    {
     "name": "stdout",
     "output_type": "stream",
     "text": [
      "<class 'pandas.core.frame.DataFrame'>\n",
      "RangeIndex: 2994182 entries, 0 to 2994181\n",
      "Data columns (total 4 columns):\n",
      " #   Column  Dtype \n",
      "---  ------  ----- \n",
      " 0   text    object\n",
      " 1   dial    object\n",
      " 2   reg     object\n",
      " 3   pair    object\n",
      "dtypes: object(4)\n",
      "memory usage: 91.4+ MB\n"
     ]
    }
   ],
   "source": [
    "df.info()"
   ]
  },
  {
   "cell_type": "code",
   "execution_count": 4,
   "id": "7559fc17",
   "metadata": {},
   "outputs": [
    {
     "data": {
      "text/html": [
       "<div>\n",
       "<style scoped>\n",
       "    .dataframe tbody tr th:only-of-type {\n",
       "        vertical-align: middle;\n",
       "    }\n",
       "\n",
       "    .dataframe tbody tr th {\n",
       "        vertical-align: top;\n",
       "    }\n",
       "\n",
       "    .dataframe thead th {\n",
       "        text-align: right;\n",
       "    }\n",
       "</style>\n",
       "<table border=\"1\" class=\"dataframe\">\n",
       "  <thead>\n",
       "    <tr style=\"text-align: right;\">\n",
       "      <th></th>\n",
       "      <th>text</th>\n",
       "      <th>dial</th>\n",
       "      <th>reg</th>\n",
       "      <th>pair</th>\n",
       "    </tr>\n",
       "  </thead>\n",
       "  <tbody>\n",
       "    <tr>\n",
       "      <th>0</th>\n",
       "      <td>그 부주를 하기에는 조금 그렇지 (않아?)</td>\n",
       "      <td>그 부주를 하기에는 조금 그렇지 (안?)</td>\n",
       "      <td>jj</td>\n",
       "      <td>(안?)/(않아?)</td>\n",
       "    </tr>\n",
       "    <tr>\n",
       "      <th>1</th>\n",
       "      <td>그리고 거기서 밥을 먹을지도 (모르겠어.)</td>\n",
       "      <td>그리고 거기서 밥을 먹을지도 (모르겐.)</td>\n",
       "      <td>jj</td>\n",
       "      <td>(모르겐.)/(모르겠어.)</td>\n",
       "    </tr>\n",
       "    <tr>\n",
       "      <th>2</th>\n",
       "      <td>왜냐하면은 밥이 안 나온다고 (들었어.)</td>\n",
       "      <td>왜냐하면은 밥이 안 나온다고 (들언.)</td>\n",
       "      <td>jj</td>\n",
       "      <td>(들언.)/(들었어.)</td>\n",
       "    </tr>\n",
       "    <tr>\n",
       "      <th>3</th>\n",
       "      <td>토요일 날에 토요일날에 잔치를 하고 일요일 날에 식을 (올린대.)</td>\n",
       "      <td>토요일 날에 토요일날에 잔치를 하고 일요일 날에 식을 (올린댄.)</td>\n",
       "      <td>jj</td>\n",
       "      <td>(올린댄.)/(올린대.)</td>\n",
       "    </tr>\n",
       "    <tr>\n",
       "      <th>4</th>\n",
       "      <td>그럼 어떻게 혼자 아 (혼자래.)</td>\n",
       "      <td>그럼 어떻게 혼자 아 (혼자랜.)</td>\n",
       "      <td>jj</td>\n",
       "      <td>(혼자랜.)/(혼자래.)</td>\n",
       "    </tr>\n",
       "  </tbody>\n",
       "</table>\n",
       "</div>"
      ],
      "text/plain": [
       "                                   text                                  dial   \n",
       "0               그 부주를 하기에는 조금 그렇지 (않아?)                그 부주를 하기에는 조금 그렇지 (안?)  \\\n",
       "1               그리고 거기서 밥을 먹을지도 (모르겠어.)                그리고 거기서 밥을 먹을지도 (모르겐.)   \n",
       "2                왜냐하면은 밥이 안 나온다고 (들었어.)                 왜냐하면은 밥이 안 나온다고 (들언.)   \n",
       "3  토요일 날에 토요일날에 잔치를 하고 일요일 날에 식을 (올린대.)  토요일 날에 토요일날에 잔치를 하고 일요일 날에 식을 (올린댄.)   \n",
       "4                    그럼 어떻게 혼자 아 (혼자래.)                    그럼 어떻게 혼자 아 (혼자랜.)   \n",
       "\n",
       "  reg            pair  \n",
       "0  jj      (안?)/(않아?)  \n",
       "1  jj  (모르겐.)/(모르겠어.)  \n",
       "2  jj    (들언.)/(들었어.)  \n",
       "3  jj   (올린댄.)/(올린대.)  \n",
       "4  jj   (혼자랜.)/(혼자래.)  "
      ]
     },
     "execution_count": 4,
     "metadata": {},
     "output_type": "execute_result"
    }
   ],
   "source": [
    "df.head()"
   ]
  },
  {
   "cell_type": "code",
   "execution_count": 5,
   "id": "78e77490",
   "metadata": {},
   "outputs": [],
   "source": [
    "import re"
   ]
  },
  {
   "cell_type": "code",
   "execution_count": 6,
   "id": "e4b0cb4b",
   "metadata": {},
   "outputs": [],
   "source": [
    "#data cleaning\n",
    "\n",
    "df['text']=df['text'].apply(lambda x : re.sub('[\\(\\)]','',str(x))) # remove parenthesis\n",
    "df['text']=df['text'].apply(lambda x : re.sub('(\\&+[a-zA-Zㄱ-힣\\&]+)','',str(x))) # remove words like &&name, &company name, etc.\n",
    "df['text']=df['text'].apply(lambda x : re.sub('(\\@+[ㄱ-힣\\@]+)','',str(x))) # remove words like &&name, &company name, etc.\n",
    "df['text']=df['text'].apply(lambda x : re.sub('(x+[a-zㄱ-힣]+)','',str(x))) # remove words like xx하면, xxxx, etc\n",
    "df['text']=df['text'].apply(lambda x : re.sub('(\\-+[a-zㄱ-힣\\-]+)','',str(x))) # remove words like --하면, -시사- etc\n",
    "df['text']=df['text'].apply(lambda x : re.sub(r'(.+)\\1{2,}',r'\\1',str(x))) # remove repeating words\n",
    "df['text']=df['text'].apply(lambda x : re.sub('([ㄱ-힣]+)\\~$',r'\\1.',str(x))) # sub words ending in ~ to . ex 그럴거야~ 그럴거야.\n",
    "df['text']=df['text'].apply(lambda x : re.sub('([ㄱ-힣]+)\\~','',str(x))) # remove expressions like 어~ 아~ 으~ 오~\n",
    "\n",
    "df['dial']=df['dial'].apply(lambda x : re.sub('[\\(\\)]','',str(x)))\n",
    "df['dial']=df['dial'].apply(lambda x : re.sub('(\\&+[a-zA-Zㄱ-힣\\&]+)','',str(x)))\n",
    "df['dial']=df['dial'].apply(lambda x : re.sub('(\\@+[ㄱ-힣\\@]+)','',str(x))) # remove words like @이름,@주소,@상호명, etc.\n",
    "df['dial']=df['dial'].apply(lambda x : re.sub('(x+[a-zㄱ-힣]+)','',str(x))) # remove words like xx하면, xxxx, etc\n",
    "df['dial']=df['dial'].apply(lambda x : re.sub('(\\-+[a-zㄱ-힣\\-\\&]+)','',str(x))) # remove words like --하면, -시사- etc\n",
    "df['dial']=df['dial'].apply(lambda x : re.sub(r'(.+)\\1{2,}',r'\\1',str(x))) # remove repeating words\n",
    "df['dial']=df['dial'].apply(lambda x : re.sub('([ㄱ-힣]+)\\~$',r'\\1.',str(x))) # sub words ending in ~ to . ex 그럴거야~ 그럴거야.\n",
    "df['dial']=df['dial'].apply(lambda x : re.sub('([ㄱ-힣]+)\\~','',str(x))) # remove expressions like 어~ 아~ 으~ 오~\n",
    "\n",
    "#remove from training\n",
    "\n",
    "df.loc[df['text'].str.contains('/'),'rm'] = 1 #containing mislabelled data\n",
    "df['len'] = df['text'].apply(lambda x: len(x))\n",
    "df.loc[df['len'] < 2,'rm'] = 1 #length is less than 2\n",
    "df.drop_duplicates(subset='dial', inplace=True) # drop duplicated senteces in dial\n",
    "clean_df = df.loc[df['rm']!=1,['text','dial','reg','pair']]"
   ]
  },
  {
   "cell_type": "code",
   "execution_count": 7,
   "id": "c6d95c07",
   "metadata": {},
   "outputs": [
    {
     "data": {
      "text/html": [
       "<div>\n",
       "<style scoped>\n",
       "    .dataframe tbody tr th:only-of-type {\n",
       "        vertical-align: middle;\n",
       "    }\n",
       "\n",
       "    .dataframe tbody tr th {\n",
       "        vertical-align: top;\n",
       "    }\n",
       "\n",
       "    .dataframe thead th {\n",
       "        text-align: right;\n",
       "    }\n",
       "</style>\n",
       "<table border=\"1\" class=\"dataframe\">\n",
       "  <thead>\n",
       "    <tr style=\"text-align: right;\">\n",
       "      <th></th>\n",
       "      <th>text</th>\n",
       "      <th>dial</th>\n",
       "      <th>reg</th>\n",
       "      <th>pair</th>\n",
       "    </tr>\n",
       "  </thead>\n",
       "  <tbody>\n",
       "    <tr>\n",
       "      <th>0</th>\n",
       "      <td>그 부주를 하기에는 조금 그렇지 않아?</td>\n",
       "      <td>그 부주를 하기에는 조금 그렇지 안?</td>\n",
       "      <td>jj</td>\n",
       "      <td>(안?)/(않아?)</td>\n",
       "    </tr>\n",
       "    <tr>\n",
       "      <th>1</th>\n",
       "      <td>그리고 거기서 밥을 먹을지도 모르겠어.</td>\n",
       "      <td>그리고 거기서 밥을 먹을지도 모르겐.</td>\n",
       "      <td>jj</td>\n",
       "      <td>(모르겐.)/(모르겠어.)</td>\n",
       "    </tr>\n",
       "    <tr>\n",
       "      <th>2</th>\n",
       "      <td>왜냐하면은 밥이 안 나온다고 들었어.</td>\n",
       "      <td>왜냐하면은 밥이 안 나온다고 들언.</td>\n",
       "      <td>jj</td>\n",
       "      <td>(들언.)/(들었어.)</td>\n",
       "    </tr>\n",
       "    <tr>\n",
       "      <th>3</th>\n",
       "      <td>토요일 날에 토요일날에 잔치를 하고 일요일 날에 식을 올린대.</td>\n",
       "      <td>토요일 날에 토요일날에 잔치를 하고 일요일 날에 식을 올린댄.</td>\n",
       "      <td>jj</td>\n",
       "      <td>(올린댄.)/(올린대.)</td>\n",
       "    </tr>\n",
       "    <tr>\n",
       "      <th>4</th>\n",
       "      <td>그럼 어떻게 혼자 아 혼자래.</td>\n",
       "      <td>그럼 어떻게 혼자 아 혼자랜.</td>\n",
       "      <td>jj</td>\n",
       "      <td>(혼자랜.)/(혼자래.)</td>\n",
       "    </tr>\n",
       "  </tbody>\n",
       "</table>\n",
       "</div>"
      ],
      "text/plain": [
       "                                 text                                dial reg   \n",
       "0               그 부주를 하기에는 조금 그렇지 않아?                그 부주를 하기에는 조금 그렇지 안?  jj  \\\n",
       "1               그리고 거기서 밥을 먹을지도 모르겠어.                그리고 거기서 밥을 먹을지도 모르겐.  jj   \n",
       "2                왜냐하면은 밥이 안 나온다고 들었어.                 왜냐하면은 밥이 안 나온다고 들언.  jj   \n",
       "3  토요일 날에 토요일날에 잔치를 하고 일요일 날에 식을 올린대.  토요일 날에 토요일날에 잔치를 하고 일요일 날에 식을 올린댄.  jj   \n",
       "4                    그럼 어떻게 혼자 아 혼자래.                    그럼 어떻게 혼자 아 혼자랜.  jj   \n",
       "\n",
       "             pair  \n",
       "0      (안?)/(않아?)  \n",
       "1  (모르겐.)/(모르겠어.)  \n",
       "2    (들언.)/(들었어.)  \n",
       "3   (올린댄.)/(올린대.)  \n",
       "4   (혼자랜.)/(혼자래.)  "
      ]
     },
     "execution_count": 7,
     "metadata": {},
     "output_type": "execute_result"
    }
   ],
   "source": [
    "clean_df.head()"
   ]
  },
  {
   "cell_type": "code",
   "execution_count": 8,
   "id": "df783292",
   "metadata": {},
   "outputs": [],
   "source": [
    "import transformers"
   ]
  },
  {
   "cell_type": "code",
   "execution_count": 33,
   "id": "908d8f1e",
   "metadata": {},
   "outputs": [
    {
     "name": "stderr",
     "output_type": "stream",
     "text": [
      "You passed along `num_labels=3` with an incompatible id to label map: {'0': 'NEGATIVE', '1': 'POSITIVE'}. The number of labels wil be overwritten to 2.\n",
      "You passed along `num_labels=3` with an incompatible id to label map: {'0': 'NEGATIVE', '1': 'POSITIVE'}. The number of labels wil be overwritten to 2.\n",
      "You passed along `num_labels=3` with an incompatible id to label map: {'0': 'NEGATIVE', '1': 'POSITIVE'}. The number of labels wil be overwritten to 2.\n"
     ]
    }
   ],
   "source": [
    "from transformers import AutoModelForSeq2SeqLM, AutoTokenizer, pipeline\n",
    "ckpt = 'circulus/kobart-trans-ko-en-v2'\n",
    "tokenizer = AutoTokenizer.from_pretrained(ckpt)\n",
    "model = AutoModelForSeq2SeqLM.from_pretrained(ckpt)\n",
    "translator = pipeline(\"translation\", model=ckpt, max_length=60)"
   ]
  },
  {
   "cell_type": "code",
   "execution_count": 40,
   "id": "76862921",
   "metadata": {},
   "outputs": [
    {
     "data": {
      "text/plain": [
       "35339"
      ]
     },
     "execution_count": 40,
     "metadata": {},
     "output_type": "execute_result"
    }
   ],
   "source": [
    "text = clean_df.text.values.tolist()\n",
    "len(text)"
   ]
  },
  {
   "cell_type": "code",
   "execution_count": 41,
   "id": "5bf82f6b",
   "metadata": {},
   "outputs": [],
   "source": [
    "from torch.utils.data import DataLoader\n",
    "\n",
    "dataloader = DataLoader(text,  batch_size=512)"
   ]
  },
  {
   "cell_type": "code",
   "execution_count": 64,
   "id": "9e6a1a9a",
   "metadata": {},
   "outputs": [
    {
     "name": "stderr",
     "output_type": "stream",
     "text": [
      "100%|███████████████████████████████████████████| 70/70 [46:05<00:00, 39.51s/it]\n"
     ]
    }
   ],
   "source": [
    "translation_file = input() # translation file name\n",
    "outputs = []\n",
    "for n,i in enumerate(tqdm.tqdm(dataloader)) :\n",
    "    inputs = tokenizer(i, return_tensors=\"pt\", padding=True).input_ids\n",
    "    out = model.generate(inputs,num_beams=3, max_new_tokens=60) # do_sample=True, top_k=30, top_p=0.95,\n",
    "    for j in out :\n",
    "        result = tokenizer.decode(j, skip_special_tokens=True)\n",
    "        outputs.append(result)\n",
    "    \n",
    "    if n % 100 == 0 :\n",
    "        with open(translation_file,'w') as f :\n",
    "            for sen in outputs :\n",
    "                f.write(sen+'\\n')\n",
    "                \n",
    "with open(translation_file,'w') as f :\n",
    "    for sen in outputs :\n",
    "        f.write(sen+'\\n')"
   ]
  },
  {
   "cell_type": "code",
   "execution_count": 82,
   "id": "b8c173c0",
   "metadata": {},
   "outputs": [
    {
     "data": {
      "text/plain": [
       "reg\n",
       "jj    1114693\n",
       "kw     497897\n",
       "gs     332121\n",
       "jd     287385\n",
       "cc     274155\n",
       "Name: count, dtype: int64"
      ]
     },
     "execution_count": 82,
     "metadata": {},
     "output_type": "execute_result"
    }
   ],
   "source": [
    "with open(translation_file,'r') as f :\n",
    "    raw = f.read().splitlines()"
   ]
  },
  {
   "cell_type": "code",
   "execution_count": 80,
   "id": "33360048",
   "metadata": {},
   "outputs": [],
   "source": [
    "translated_train_data = input() #file name for translated trained data\n",
    "clean_df['eng'] = raw\n",
    "clean_df.to_csv(f'../../data/processed/{translated_train_data}.csv')"
   ]
  }
 ],
 "metadata": {
  "kernelspec": {
   "display_name": "Python 3 (ipykernel)",
   "language": "python",
   "name": "python3"
  },
  "language_info": {
   "codemirror_mode": {
    "name": "ipython",
    "version": 3
   },
   "file_extension": ".py",
   "mimetype": "text/x-python",
   "name": "python",
   "nbconvert_exporter": "python",
   "pygments_lexer": "ipython3",
   "version": "3.9.6"
  }
 },
 "nbformat": 4,
 "nbformat_minor": 5
}
